{
 "cells": [
  {
   "attachments": {},
   "cell_type": "markdown",
   "id": "c099f91c",
   "metadata": {},
   "source": [
    "## Importing Modules"
   ]
  },
  {
   "cell_type": "code",
   "execution_count": 1,
   "id": "62447e42",
   "metadata": {},
   "outputs": [],
   "source": [
    "from sklearn.neural_network import MLPClassifier\n",
    "from sklearn.model_selection import train_test_split\n",
    "from sklearn.datasets import make_classification\n",
    "from sklearn.preprocessing import StandardScaler \n",
    "from sklearn.metrics import r2_score\n",
    "import seaborn as sns\n",
    "from sklearn import metrics\n",
    "import pandas as pd\n",
    "import numpy as np\n",
    "import matplotlib.pyplot as plt\n"
   ]
  },
  {
   "cell_type": "markdown",
   "id": "3e3e5d91",
   "metadata": {},
   "source": [
    "## Creating the dataset"
   ]
  },
  {
   "cell_type": "code",
   "execution_count": 2,
   "id": "9b86c13a",
   "metadata": {},
   "outputs": [],
   "source": [
    "dataSet = pd.read_csv('./dataSet/Dataset_spine.csv')"
   ]
  },
  {
   "cell_type": "code",
   "execution_count": 3,
   "id": "90f11319",
   "metadata": {},
   "outputs": [
    {
     "data": {
      "text/plain": [
       "Index(['pelvic_incidence', 'pelvic_tilt', 'lumbar_lordosis_angle',\n",
       "       'sacral_slope', 'pelvic_radius', 'degree_spondylolisthesis',\n",
       "       'pelvic_slope', 'Direct_tilt', 'thoracic_slope', 'cervical_tilt',\n",
       "       'sacrum_angle', 'scoliosis_slope', 'class', 'Unnamed: 13'],\n",
       "      dtype='object')"
      ]
     },
     "execution_count": 3,
     "metadata": {},
     "output_type": "execute_result"
    }
   ],
   "source": [
    "dataSet.columns"
   ]
  },
  {
   "attachments": {},
   "cell_type": "markdown",
   "id": "0e2245b9",
   "metadata": {},
   "source": [
    "Removing not important columns.\n",
    "The 'target' column will be binary, 1 representing the patient has the positive diagnose, 0 representing the negative diagnose."
   ]
  },
  {
   "cell_type": "code",
   "execution_count": 4,
   "id": "36c6942e",
   "metadata": {},
   "outputs": [
    {
     "data": {
      "text/html": [
       "<div>\n",
       "<style scoped>\n",
       "    .dataframe tbody tr th:only-of-type {\n",
       "        vertical-align: middle;\n",
       "    }\n",
       "\n",
       "    .dataframe tbody tr th {\n",
       "        vertical-align: top;\n",
       "    }\n",
       "\n",
       "    .dataframe thead th {\n",
       "        text-align: right;\n",
       "    }\n",
       "</style>\n",
       "<table border=\"1\" class=\"dataframe\">\n",
       "  <thead>\n",
       "    <tr style=\"text-align: right;\">\n",
       "      <th></th>\n",
       "      <th>pelvic_incidence</th>\n",
       "      <th>pelvic_tilt</th>\n",
       "      <th>lumbar_lordosis_angle</th>\n",
       "      <th>sacral_slope</th>\n",
       "      <th>pelvic_radius</th>\n",
       "      <th>degree_spondylolisthesis</th>\n",
       "      <th>pelvic_slope</th>\n",
       "      <th>Direct_tilt</th>\n",
       "      <th>thoracic_slope</th>\n",
       "      <th>cervical_tilt</th>\n",
       "      <th>sacrum_angle</th>\n",
       "      <th>scoliosis_slope</th>\n",
       "      <th>class</th>\n",
       "      <th>target</th>\n",
       "    </tr>\n",
       "  </thead>\n",
       "  <tbody>\n",
       "    <tr>\n",
       "      <th>0</th>\n",
       "      <td>63.027817</td>\n",
       "      <td>22.552586</td>\n",
       "      <td>39.609117</td>\n",
       "      <td>40.475232</td>\n",
       "      <td>98.672917</td>\n",
       "      <td>-0.254400</td>\n",
       "      <td>0.744503</td>\n",
       "      <td>12.5661</td>\n",
       "      <td>14.5386</td>\n",
       "      <td>15.30468</td>\n",
       "      <td>-28.658501</td>\n",
       "      <td>43.5123</td>\n",
       "      <td>Abnormal</td>\n",
       "      <td>0</td>\n",
       "    </tr>\n",
       "    <tr>\n",
       "      <th>1</th>\n",
       "      <td>39.056951</td>\n",
       "      <td>10.060991</td>\n",
       "      <td>25.015378</td>\n",
       "      <td>28.995960</td>\n",
       "      <td>114.405425</td>\n",
       "      <td>4.564259</td>\n",
       "      <td>0.415186</td>\n",
       "      <td>12.8874</td>\n",
       "      <td>17.5323</td>\n",
       "      <td>16.78486</td>\n",
       "      <td>-25.530607</td>\n",
       "      <td>16.1102</td>\n",
       "      <td>Abnormal</td>\n",
       "      <td>0</td>\n",
       "    </tr>\n",
       "    <tr>\n",
       "      <th>2</th>\n",
       "      <td>68.832021</td>\n",
       "      <td>22.218482</td>\n",
       "      <td>50.092194</td>\n",
       "      <td>46.613539</td>\n",
       "      <td>105.985135</td>\n",
       "      <td>-3.530317</td>\n",
       "      <td>0.474889</td>\n",
       "      <td>26.8343</td>\n",
       "      <td>17.4861</td>\n",
       "      <td>16.65897</td>\n",
       "      <td>-29.031888</td>\n",
       "      <td>19.2221</td>\n",
       "      <td>Abnormal</td>\n",
       "      <td>0</td>\n",
       "    </tr>\n",
       "    <tr>\n",
       "      <th>3</th>\n",
       "      <td>69.297008</td>\n",
       "      <td>24.652878</td>\n",
       "      <td>44.311238</td>\n",
       "      <td>44.644130</td>\n",
       "      <td>101.868495</td>\n",
       "      <td>11.211523</td>\n",
       "      <td>0.369345</td>\n",
       "      <td>23.5603</td>\n",
       "      <td>12.7074</td>\n",
       "      <td>11.42447</td>\n",
       "      <td>-30.470246</td>\n",
       "      <td>18.8329</td>\n",
       "      <td>Abnormal</td>\n",
       "      <td>0</td>\n",
       "    </tr>\n",
       "    <tr>\n",
       "      <th>4</th>\n",
       "      <td>49.712859</td>\n",
       "      <td>9.652075</td>\n",
       "      <td>28.317406</td>\n",
       "      <td>40.060784</td>\n",
       "      <td>108.168725</td>\n",
       "      <td>7.918501</td>\n",
       "      <td>0.543360</td>\n",
       "      <td>35.4940</td>\n",
       "      <td>15.9546</td>\n",
       "      <td>8.87237</td>\n",
       "      <td>-16.378376</td>\n",
       "      <td>24.9171</td>\n",
       "      <td>Abnormal</td>\n",
       "      <td>0</td>\n",
       "    </tr>\n",
       "    <tr>\n",
       "      <th>...</th>\n",
       "      <td>...</td>\n",
       "      <td>...</td>\n",
       "      <td>...</td>\n",
       "      <td>...</td>\n",
       "      <td>...</td>\n",
       "      <td>...</td>\n",
       "      <td>...</td>\n",
       "      <td>...</td>\n",
       "      <td>...</td>\n",
       "      <td>...</td>\n",
       "      <td>...</td>\n",
       "      <td>...</td>\n",
       "      <td>...</td>\n",
       "      <td>...</td>\n",
       "    </tr>\n",
       "    <tr>\n",
       "      <th>305</th>\n",
       "      <td>47.903565</td>\n",
       "      <td>13.616688</td>\n",
       "      <td>36.000000</td>\n",
       "      <td>34.286877</td>\n",
       "      <td>117.449062</td>\n",
       "      <td>-4.245395</td>\n",
       "      <td>0.129744</td>\n",
       "      <td>7.8433</td>\n",
       "      <td>14.7484</td>\n",
       "      <td>8.51707</td>\n",
       "      <td>-15.728927</td>\n",
       "      <td>11.5472</td>\n",
       "      <td>Normal</td>\n",
       "      <td>1</td>\n",
       "    </tr>\n",
       "    <tr>\n",
       "      <th>306</th>\n",
       "      <td>53.936748</td>\n",
       "      <td>20.721496</td>\n",
       "      <td>29.220534</td>\n",
       "      <td>33.215251</td>\n",
       "      <td>114.365845</td>\n",
       "      <td>-0.421010</td>\n",
       "      <td>0.047913</td>\n",
       "      <td>19.1986</td>\n",
       "      <td>18.1972</td>\n",
       "      <td>7.08745</td>\n",
       "      <td>6.013843</td>\n",
       "      <td>43.8693</td>\n",
       "      <td>Normal</td>\n",
       "      <td>1</td>\n",
       "    </tr>\n",
       "    <tr>\n",
       "      <th>307</th>\n",
       "      <td>61.446597</td>\n",
       "      <td>22.694968</td>\n",
       "      <td>46.170347</td>\n",
       "      <td>38.751628</td>\n",
       "      <td>125.670725</td>\n",
       "      <td>-2.707880</td>\n",
       "      <td>0.081070</td>\n",
       "      <td>16.2059</td>\n",
       "      <td>13.5565</td>\n",
       "      <td>8.89572</td>\n",
       "      <td>3.564463</td>\n",
       "      <td>18.4151</td>\n",
       "      <td>Normal</td>\n",
       "      <td>1</td>\n",
       "    </tr>\n",
       "    <tr>\n",
       "      <th>308</th>\n",
       "      <td>45.252792</td>\n",
       "      <td>8.693157</td>\n",
       "      <td>41.583126</td>\n",
       "      <td>36.559635</td>\n",
       "      <td>118.545842</td>\n",
       "      <td>0.214750</td>\n",
       "      <td>0.159251</td>\n",
       "      <td>14.7334</td>\n",
       "      <td>16.0928</td>\n",
       "      <td>9.75922</td>\n",
       "      <td>5.767308</td>\n",
       "      <td>33.7192</td>\n",
       "      <td>Normal</td>\n",
       "      <td>1</td>\n",
       "    </tr>\n",
       "    <tr>\n",
       "      <th>309</th>\n",
       "      <td>33.841641</td>\n",
       "      <td>5.073991</td>\n",
       "      <td>36.641233</td>\n",
       "      <td>28.767649</td>\n",
       "      <td>123.945244</td>\n",
       "      <td>-0.199249</td>\n",
       "      <td>0.674504</td>\n",
       "      <td>19.3825</td>\n",
       "      <td>17.6963</td>\n",
       "      <td>13.72929</td>\n",
       "      <td>1.783007</td>\n",
       "      <td>40.6049</td>\n",
       "      <td>Normal</td>\n",
       "      <td>1</td>\n",
       "    </tr>\n",
       "  </tbody>\n",
       "</table>\n",
       "<p>310 rows × 14 columns</p>\n",
       "</div>"
      ],
      "text/plain": [
       "     pelvic_incidence  pelvic_tilt  lumbar_lordosis_angle  sacral_slope  \\\n",
       "0           63.027817    22.552586              39.609117     40.475232   \n",
       "1           39.056951    10.060991              25.015378     28.995960   \n",
       "2           68.832021    22.218482              50.092194     46.613539   \n",
       "3           69.297008    24.652878              44.311238     44.644130   \n",
       "4           49.712859     9.652075              28.317406     40.060784   \n",
       "..                ...          ...                    ...           ...   \n",
       "305         47.903565    13.616688              36.000000     34.286877   \n",
       "306         53.936748    20.721496              29.220534     33.215251   \n",
       "307         61.446597    22.694968              46.170347     38.751628   \n",
       "308         45.252792     8.693157              41.583126     36.559635   \n",
       "309         33.841641     5.073991              36.641233     28.767649   \n",
       "\n",
       "     pelvic_radius  degree_spondylolisthesis  pelvic_slope  Direct_tilt  \\\n",
       "0        98.672917                 -0.254400      0.744503      12.5661   \n",
       "1       114.405425                  4.564259      0.415186      12.8874   \n",
       "2       105.985135                 -3.530317      0.474889      26.8343   \n",
       "3       101.868495                 11.211523      0.369345      23.5603   \n",
       "4       108.168725                  7.918501      0.543360      35.4940   \n",
       "..             ...                       ...           ...          ...   \n",
       "305     117.449062                 -4.245395      0.129744       7.8433   \n",
       "306     114.365845                 -0.421010      0.047913      19.1986   \n",
       "307     125.670725                 -2.707880      0.081070      16.2059   \n",
       "308     118.545842                  0.214750      0.159251      14.7334   \n",
       "309     123.945244                 -0.199249      0.674504      19.3825   \n",
       "\n",
       "     thoracic_slope  cervical_tilt  sacrum_angle  scoliosis_slope     class  \\\n",
       "0           14.5386       15.30468    -28.658501          43.5123  Abnormal   \n",
       "1           17.5323       16.78486    -25.530607          16.1102  Abnormal   \n",
       "2           17.4861       16.65897    -29.031888          19.2221  Abnormal   \n",
       "3           12.7074       11.42447    -30.470246          18.8329  Abnormal   \n",
       "4           15.9546        8.87237    -16.378376          24.9171  Abnormal   \n",
       "..              ...            ...           ...              ...       ...   \n",
       "305         14.7484        8.51707    -15.728927          11.5472    Normal   \n",
       "306         18.1972        7.08745      6.013843          43.8693    Normal   \n",
       "307         13.5565        8.89572      3.564463          18.4151    Normal   \n",
       "308         16.0928        9.75922      5.767308          33.7192    Normal   \n",
       "309         17.6963       13.72929      1.783007          40.6049    Normal   \n",
       "\n",
       "     target  \n",
       "0         0  \n",
       "1         0  \n",
       "2         0  \n",
       "3         0  \n",
       "4         0  \n",
       "..      ...  \n",
       "305       1  \n",
       "306       1  \n",
       "307       1  \n",
       "308       1  \n",
       "309       1  \n",
       "\n",
       "[310 rows x 14 columns]"
      ]
     },
     "execution_count": 4,
     "metadata": {},
     "output_type": "execute_result"
    }
   ],
   "source": [
    "dataSet.drop([dataSet.keys()[-1]], axis=1, inplace=True)\n",
    "dataSet['target'] = dataSet['class'].apply(lambda x: 0 if x == 'Abnormal' else 1)\n",
    "dataSet"
   ]
  },
  {
   "cell_type": "code",
   "execution_count": 5,
   "id": "670e41e0",
   "metadata": {},
   "outputs": [],
   "source": [
    "dataSet.drop('class', axis=1, inplace= True)"
   ]
  },
  {
   "attachments": {},
   "cell_type": "markdown",
   "id": "ce9d92ef",
   "metadata": {},
   "source": [
    "## Normalization"
   ]
  },
  {
   "attachments": {},
   "cell_type": "markdown",
   "id": "81128109",
   "metadata": {},
   "source": [
    "The data in the normalized form prevents from the model to consider criteria with bigger magnitude in virtue to other criteria"
   ]
  },
  {
   "cell_type": "code",
   "execution_count": 6,
   "id": "a74d5880",
   "metadata": {},
   "outputs": [
    {
     "data": {
      "text/plain": [
       "array([[ 0.14708636,  0.50136873, -0.6651769 , ..., -1.19658726,\n",
       "         1.71236843, -0.69006556],\n",
       "       [-1.24586434, -0.74876898, -1.45300075, ..., -0.94032533,\n",
       "        -0.91394145, -0.69006556],\n",
       "       [ 0.4843695 ,  0.46793218, -0.09926175, ..., -1.22717809,\n",
       "        -0.61568643, -0.69006556],\n",
       "       ...,\n",
       "       [ 0.05520137,  0.51561812, -0.31097748, ...,  1.44337397,\n",
       "        -0.69303204,  1.44913767],\n",
       "       [-0.88582307, -0.88565951, -0.55861259, ...,  1.62384854,\n",
       "         0.77376463,  1.44913767],\n",
       "       [-1.54892681, -1.24785954, -0.82539423, ...,  1.29742294,\n",
       "         1.43371339,  1.44913767]])"
      ]
     },
     "execution_count": 6,
     "metadata": {},
     "output_type": "execute_result"
    }
   ],
   "source": [
    "scale = StandardScaler()\n",
    "\n",
    "dataSet = scale.fit_transform(dataSet)\n",
    "dataSet"
   ]
  },
  {
   "cell_type": "code",
   "execution_count": 7,
   "id": "b0e3dc6f",
   "metadata": {},
   "outputs": [
    {
     "data": {
      "text/html": [
       "<div>\n",
       "<style scoped>\n",
       "    .dataframe tbody tr th:only-of-type {\n",
       "        vertical-align: middle;\n",
       "    }\n",
       "\n",
       "    .dataframe tbody tr th {\n",
       "        vertical-align: top;\n",
       "    }\n",
       "\n",
       "    .dataframe thead th {\n",
       "        text-align: right;\n",
       "    }\n",
       "</style>\n",
       "<table border=\"1\" class=\"dataframe\">\n",
       "  <thead>\n",
       "    <tr style=\"text-align: right;\">\n",
       "      <th></th>\n",
       "      <th>0</th>\n",
       "      <th>1</th>\n",
       "      <th>2</th>\n",
       "      <th>3</th>\n",
       "      <th>4</th>\n",
       "      <th>5</th>\n",
       "      <th>6</th>\n",
       "      <th>7</th>\n",
       "      <th>8</th>\n",
       "      <th>9</th>\n",
       "      <th>10</th>\n",
       "      <th>11</th>\n",
       "      <th>12</th>\n",
       "    </tr>\n",
       "  </thead>\n",
       "  <tbody>\n",
       "    <tr>\n",
       "      <th>0</th>\n",
       "      <td>0.147086</td>\n",
       "      <td>0.501369</td>\n",
       "      <td>-0.665177</td>\n",
       "      <td>-0.184950</td>\n",
       "      <td>-1.447647</td>\n",
       "      <td>-0.708059</td>\n",
       "      <td>0.951630</td>\n",
       "      <td>-1.015066</td>\n",
       "      <td>0.434293</td>\n",
       "      <td>1.167129</td>\n",
       "      <td>-1.196587</td>\n",
       "      <td>1.712368</td>\n",
       "      <td>-0.690066</td>\n",
       "    </tr>\n",
       "    <tr>\n",
       "      <th>1</th>\n",
       "      <td>-1.245864</td>\n",
       "      <td>-0.748769</td>\n",
       "      <td>-1.453001</td>\n",
       "      <td>-1.041521</td>\n",
       "      <td>-0.264385</td>\n",
       "      <td>-0.579556</td>\n",
       "      <td>-0.202553</td>\n",
       "      <td>-0.977816</td>\n",
       "      <td>1.316291</td>\n",
       "      <td>1.679551</td>\n",
       "      <td>-0.940325</td>\n",
       "      <td>-0.913941</td>\n",
       "      <td>-0.690066</td>\n",
       "    </tr>\n",
       "    <tr>\n",
       "      <th>2</th>\n",
       "      <td>0.484370</td>\n",
       "      <td>0.467932</td>\n",
       "      <td>-0.099262</td>\n",
       "      <td>0.273083</td>\n",
       "      <td>-0.897686</td>\n",
       "      <td>-0.795421</td>\n",
       "      <td>0.006694</td>\n",
       "      <td>0.639127</td>\n",
       "      <td>1.302680</td>\n",
       "      <td>1.635969</td>\n",
       "      <td>-1.227178</td>\n",
       "      <td>-0.615686</td>\n",
       "      <td>-0.690066</td>\n",
       "    </tr>\n",
       "    <tr>\n",
       "      <th>3</th>\n",
       "      <td>0.511390</td>\n",
       "      <td>0.711562</td>\n",
       "      <td>-0.411339</td>\n",
       "      <td>0.126128</td>\n",
       "      <td>-1.207303</td>\n",
       "      <td>-0.402288</td>\n",
       "      <td>-0.363213</td>\n",
       "      <td>0.259554</td>\n",
       "      <td>-0.105211</td>\n",
       "      <td>-0.176157</td>\n",
       "      <td>-1.345020</td>\n",
       "      <td>-0.652989</td>\n",
       "      <td>-0.690066</td>\n",
       "    </tr>\n",
       "    <tr>\n",
       "      <th>4</th>\n",
       "      <td>-0.626648</td>\n",
       "      <td>-0.789693</td>\n",
       "      <td>-1.274745</td>\n",
       "      <td>-0.215876</td>\n",
       "      <td>-0.733455</td>\n",
       "      <td>-0.490106</td>\n",
       "      <td>0.246670</td>\n",
       "      <td>1.643094</td>\n",
       "      <td>0.851472</td>\n",
       "      <td>-1.059666</td>\n",
       "      <td>-0.190502</td>\n",
       "      <td>-0.069858</td>\n",
       "      <td>-0.690066</td>\n",
       "    </tr>\n",
       "    <tr>\n",
       "      <th>...</th>\n",
       "      <td>...</td>\n",
       "      <td>...</td>\n",
       "      <td>...</td>\n",
       "      <td>...</td>\n",
       "      <td>...</td>\n",
       "      <td>...</td>\n",
       "      <td>...</td>\n",
       "      <td>...</td>\n",
       "      <td>...</td>\n",
       "      <td>...</td>\n",
       "      <td>...</td>\n",
       "      <td>...</td>\n",
       "      <td>...</td>\n",
       "    </tr>\n",
       "    <tr>\n",
       "      <th>305</th>\n",
       "      <td>-0.731786</td>\n",
       "      <td>-0.392921</td>\n",
       "      <td>-0.860010</td>\n",
       "      <td>-0.646718</td>\n",
       "      <td>-0.035469</td>\n",
       "      <td>-0.814491</td>\n",
       "      <td>-1.202961</td>\n",
       "      <td>-1.562606</td>\n",
       "      <td>0.496104</td>\n",
       "      <td>-1.182667</td>\n",
       "      <td>-0.137294</td>\n",
       "      <td>-1.351275</td>\n",
       "      <td>1.449138</td>\n",
       "    </tr>\n",
       "    <tr>\n",
       "      <th>306</th>\n",
       "      <td>-0.381197</td>\n",
       "      <td>0.318116</td>\n",
       "      <td>-1.225991</td>\n",
       "      <td>-0.726682</td>\n",
       "      <td>-0.267362</td>\n",
       "      <td>-0.712503</td>\n",
       "      <td>-1.489758</td>\n",
       "      <td>-0.246123</td>\n",
       "      <td>1.512183</td>\n",
       "      <td>-1.677586</td>\n",
       "      <td>1.644047</td>\n",
       "      <td>1.746585</td>\n",
       "      <td>1.449138</td>\n",
       "    </tr>\n",
       "    <tr>\n",
       "      <th>307</th>\n",
       "      <td>0.055201</td>\n",
       "      <td>0.515618</td>\n",
       "      <td>-0.310977</td>\n",
       "      <td>-0.313564</td>\n",
       "      <td>0.582893</td>\n",
       "      <td>-0.773488</td>\n",
       "      <td>-1.373550</td>\n",
       "      <td>-0.593083</td>\n",
       "      <td>0.144949</td>\n",
       "      <td>-1.051583</td>\n",
       "      <td>1.443374</td>\n",
       "      <td>-0.693032</td>\n",
       "      <td>1.449138</td>\n",
       "    </tr>\n",
       "    <tr>\n",
       "      <th>308</th>\n",
       "      <td>-0.885823</td>\n",
       "      <td>-0.885660</td>\n",
       "      <td>-0.558613</td>\n",
       "      <td>-0.477128</td>\n",
       "      <td>0.047021</td>\n",
       "      <td>-0.695548</td>\n",
       "      <td>-1.099547</td>\n",
       "      <td>-0.763798</td>\n",
       "      <td>0.892189</td>\n",
       "      <td>-0.752649</td>\n",
       "      <td>1.623849</td>\n",
       "      <td>0.773765</td>\n",
       "      <td>1.449138</td>\n",
       "    </tr>\n",
       "    <tr>\n",
       "      <th>309</th>\n",
       "      <td>-1.548927</td>\n",
       "      <td>-1.247860</td>\n",
       "      <td>-0.825394</td>\n",
       "      <td>-1.058557</td>\n",
       "      <td>0.453117</td>\n",
       "      <td>-0.706589</td>\n",
       "      <td>0.706298</td>\n",
       "      <td>-0.224802</td>\n",
       "      <td>1.364609</td>\n",
       "      <td>0.621746</td>\n",
       "      <td>1.297423</td>\n",
       "      <td>1.433713</td>\n",
       "      <td>1.449138</td>\n",
       "    </tr>\n",
       "  </tbody>\n",
       "</table>\n",
       "<p>310 rows × 13 columns</p>\n",
       "</div>"
      ],
      "text/plain": [
       "           0         1         2         3         4         5         6   \\\n",
       "0    0.147086  0.501369 -0.665177 -0.184950 -1.447647 -0.708059  0.951630   \n",
       "1   -1.245864 -0.748769 -1.453001 -1.041521 -0.264385 -0.579556 -0.202553   \n",
       "2    0.484370  0.467932 -0.099262  0.273083 -0.897686 -0.795421  0.006694   \n",
       "3    0.511390  0.711562 -0.411339  0.126128 -1.207303 -0.402288 -0.363213   \n",
       "4   -0.626648 -0.789693 -1.274745 -0.215876 -0.733455 -0.490106  0.246670   \n",
       "..        ...       ...       ...       ...       ...       ...       ...   \n",
       "305 -0.731786 -0.392921 -0.860010 -0.646718 -0.035469 -0.814491 -1.202961   \n",
       "306 -0.381197  0.318116 -1.225991 -0.726682 -0.267362 -0.712503 -1.489758   \n",
       "307  0.055201  0.515618 -0.310977 -0.313564  0.582893 -0.773488 -1.373550   \n",
       "308 -0.885823 -0.885660 -0.558613 -0.477128  0.047021 -0.695548 -1.099547   \n",
       "309 -1.548927 -1.247860 -0.825394 -1.058557  0.453117 -0.706589  0.706298   \n",
       "\n",
       "           7         8         9         10        11        12  \n",
       "0   -1.015066  0.434293  1.167129 -1.196587  1.712368 -0.690066  \n",
       "1   -0.977816  1.316291  1.679551 -0.940325 -0.913941 -0.690066  \n",
       "2    0.639127  1.302680  1.635969 -1.227178 -0.615686 -0.690066  \n",
       "3    0.259554 -0.105211 -0.176157 -1.345020 -0.652989 -0.690066  \n",
       "4    1.643094  0.851472 -1.059666 -0.190502 -0.069858 -0.690066  \n",
       "..        ...       ...       ...       ...       ...       ...  \n",
       "305 -1.562606  0.496104 -1.182667 -0.137294 -1.351275  1.449138  \n",
       "306 -0.246123  1.512183 -1.677586  1.644047  1.746585  1.449138  \n",
       "307 -0.593083  0.144949 -1.051583  1.443374 -0.693032  1.449138  \n",
       "308 -0.763798  0.892189 -0.752649  1.623849  0.773765  1.449138  \n",
       "309 -0.224802  1.364609  0.621746  1.297423  1.433713  1.449138  \n",
       "\n",
       "[310 rows x 13 columns]"
      ]
     },
     "execution_count": 7,
     "metadata": {},
     "output_type": "execute_result"
    }
   ],
   "source": [
    "df = pd.DataFrame(dataSet)\n",
    "df"
   ]
  },
  {
   "cell_type": "markdown",
   "id": "3018a907",
   "metadata": {},
   "source": [
    "## Creating the train and test arrays"
   ]
  },
  {
   "cell_type": "code",
   "execution_count": 8,
   "id": "433f0e7b",
   "metadata": {},
   "outputs": [],
   "source": [
    "X = dataSet[:,0:12]\n",
    "y = dataSet[:,-1]\n",
    "y = y.astype('int')\n",
    "X_train, X_test, y_train, y_test = train_test_split(X, y, test_size = 0.30, random_state=1)"
   ]
  },
  {
   "attachments": {},
   "cell_type": "markdown",
   "id": "43f28d4a",
   "metadata": {},
   "source": [
    "## Creating the MLP classifier #1"
   ]
  },
  {
   "attachments": {},
   "cell_type": "markdown",
   "id": "36c99016",
   "metadata": {},
   "source": [
    "For the first MLP model, we chose the standard SciKit model, with one hidden layer containing 100 neurons.<br />\n",
    "The max_iter is set as the default value: 200 iterations.<br />\n",
    "The learning rate is set as the default value: 0.001<br />\n",
    "The learning rate is set to be constant during all the training<br />\n",
    "The solver is set as the default: 'adam'<br />\n",
    "The activation function is set as the default: 'relu'<br />"
   ]
  },
  {
   "cell_type": "code",
   "execution_count": 9,
   "id": "218f2aa7",
   "metadata": {},
   "outputs": [
    {
     "name": "stderr",
     "output_type": "stream",
     "text": [
      "/Library/Frameworks/Python.framework/Versions/3.9/lib/python3.9/site-packages/sklearn/neural_network/_multilayer_perceptron.py:702: ConvergenceWarning: Stochastic Optimizer: Maximum iterations (200) reached and the optimization hasn't converged yet.\n",
      "  warnings.warn(\n"
     ]
    }
   ],
   "source": [
    "mlpClassifier = MLPClassifier(max_iter=200,activation='relu', verbose=False, random_state=1,hidden_layer_sizes=(100,))\n",
    "mlpClassifier.fit(X_train, y_train)\n",
    "y_pred = mlpClassifier.predict(X_test)"
   ]
  },
  {
   "attachments": {},
   "cell_type": "markdown",
   "id": "e0fc32ea",
   "metadata": {},
   "source": [
    "## Analyzing the Classifier #1"
   ]
  },
  {
   "attachments": {},
   "cell_type": "markdown",
   "id": "be4487fd",
   "metadata": {},
   "source": [
    "Defining the function to obtain the percentage of correct answers"
   ]
  },
  {
   "cell_type": "code",
   "execution_count": 10,
   "id": "dd7c1744",
   "metadata": {},
   "outputs": [
    {
     "data": {
      "text/plain": [
       "83.87096774193549"
      ]
     },
     "execution_count": 10,
     "metadata": {},
     "output_type": "execute_result"
    }
   ],
   "source": [
    "def analyze(targets,preds):\n",
    "    hit = [True if preds[i] == targets[i] else False for i in range(len(targets))]\n",
    "    hitRate = (hit.count(True)/len(hit))*100\n",
    "    return hitRate\n",
    "\n",
    "analyze(y_test, y_pred)"
   ]
  },
  {
   "cell_type": "code",
   "execution_count": 11,
   "id": "741acce8",
   "metadata": {},
   "outputs": [
    {
     "data": {
      "text/plain": [
       "[<matplotlib.lines.Line2D at 0x7f8eb8153fd0>]"
      ]
     },
     "execution_count": 11,
     "metadata": {},
     "output_type": "execute_result"
    },
    {
     "data": {
      "image/png": "[encoded data removed]",
      "text/plain": [
       "<Figure size 640x480 with 1 Axes>"
      ]
     },
     "metadata": {},
     "output_type": "display_data"
    }
   ],
   "source": [
    "plt.title('Loss Curve')\n",
    "plt.plot(range(len(mlpClassifier.loss_curve_)),mlpClassifier.loss_curve_)"
   ]
  },
  {
   "cell_type": "code",
   "execution_count": 12,
   "id": "230bf4b2",
   "metadata": {},
   "outputs": [
    {
     "data": {
      "text/plain": [
       "<AxesSubplot:>"
      ]
     },
     "execution_count": 12,
     "metadata": {},
     "output_type": "execute_result"
    },
    {
     "data": {
      "image/png": "[encoded data removed]",
      "text/plain": [
       "<Figure size 640x480 with 2 Axes>"
      ]
     },
     "metadata": {},
     "output_type": "display_data"
    }
   ],
   "source": [
    "confMatrix = metrics.confusion_matrix(y_test,y_pred)\n",
    "sns.heatmap(pd.DataFrame(confMatrix),annot=True)"
   ]
  },
  {
   "attachments": {},
   "cell_type": "markdown",
   "id": "14692430",
   "metadata": {},
   "source": [
    "## Creating the MLP Classifire #2"
   ]
  },
  {
   "attachments": {},
   "cell_type": "markdown",
   "id": "08c018c1",
   "metadata": {},
   "source": [
    "For the second MLP model, we chose the standard SciKit model, but this time we are using only 50 neurons on our single hidden layer.<br />\n",
    "The max_iter is set as the default value: 200 iterations.<br />\n",
    "The learning rate is set as the default value: 0.001<br />\n",
    "The learning rate is set to be constant during all the training<br />\n",
    "The solver is set as the default: 'adam'<br />\n",
    "The activation function is set as the default: 'relu'<br />"
   ]
  },
  {
   "cell_type": "code",
   "execution_count": 13,
   "id": "2a70f895",
   "metadata": {},
   "outputs": [
    {
     "name": "stderr",
     "output_type": "stream",
     "text": [
      "/Library/Frameworks/Python.framework/Versions/3.9/lib/python3.9/site-packages/sklearn/neural_network/_multilayer_perceptron.py:702: ConvergenceWarning: Stochastic Optimizer: Maximum iterations (200) reached and the optimization hasn't converged yet.\n",
      "  warnings.warn(\n"
     ]
    }
   ],
   "source": [
    "mlpClassifier2 = MLPClassifier(max_iter=200,activation='relu', verbose=False, hidden_layer_sizes=(50,),random_state=1)\n",
    "mlpClassifier2.fit(X_train, y_train)\n",
    "y_pred2 = mlpClassifier2.predict(X_test)"
   ]
  },
  {
   "attachments": {},
   "cell_type": "markdown",
   "id": "c546e48c",
   "metadata": {},
   "source": [
    "## Analyzing the Classifier #2"
   ]
  },
  {
   "cell_type": "code",
   "execution_count": 14,
   "id": "7c0455a4",
   "metadata": {},
   "outputs": [
    {
     "data": {
      "text/plain": [
       "81.72043010752688"
      ]
     },
     "execution_count": 14,
     "metadata": {},
     "output_type": "execute_result"
    }
   ],
   "source": [
    "analyze(y_test, y_pred2)"
   ]
  },
  {
   "cell_type": "code",
   "execution_count": 15,
   "id": "059da8b7",
   "metadata": {},
   "outputs": [
    {
     "data": {
      "text/plain": [
       "[<matplotlib.lines.Line2D at 0x7f8eb880b340>]"
      ]
     },
     "execution_count": 15,
     "metadata": {},
     "output_type": "execute_result"
    },
    {
     "data": {
      "image/png": "[encoded data removed]",
      "text/plain": [
       "<Figure size 640x480 with 1 Axes>"
      ]
     },
     "metadata": {},
     "output_type": "display_data"
    }
   ],
   "source": [
    "plt.title('Loss Curve 2')\n",
    "plt.plot(range(len(mlpClassifier2.loss_curve_)),mlpClassifier2.loss_curve_)"
   ]
  },
  {
   "cell_type": "code",
   "execution_count": 16,
   "id": "2906563f",
   "metadata": {},
   "outputs": [
    {
     "data": {
      "text/plain": [
       "<AxesSubplot:>"
      ]
     },
     "execution_count": 16,
     "metadata": {},
     "output_type": "execute_result"
    },
    {
     "data": {
      "image/png": "[encoded data removed]",
      "text/plain": [
       "<Figure size 640x480 with 2 Axes>"
      ]
     },
     "metadata": {},
     "output_type": "display_data"
    }
   ],
   "source": [
    "confMatrix2 = metrics.confusion_matrix(y_test,y_pred2)\n",
    "sns.heatmap(pd.DataFrame(confMatrix2),annot=True)"
   ]
  },
  {
   "attachments": {},
   "cell_type": "markdown",
   "id": "8f82e7b2",
   "metadata": {},
   "source": [
    "## Creating the MLP Classifire #3"
   ]
  },
  {
   "attachments": {},
   "cell_type": "markdown",
   "id": "a5831137",
   "metadata": {},
   "source": [
    "For the third MLP model, we chose the standard SciKit model, but this time we are using 150 neurons on our single hidden layer.<br />\n",
    "The max_iter is set as the default value: 200 iterations.<br />\n",
    "The learning rate is set as the default value: 0.001<br />\n",
    "The learning rate is set to be constant during all the training<br />\n",
    "The solver is set as the default: 'adam'<br />\n",
    "The activation function is set as the default: 'relu'<br />"
   ]
  },
  {
   "cell_type": "code",
   "execution_count": 17,
   "id": "79be464c",
   "metadata": {},
   "outputs": [
    {
     "name": "stderr",
     "output_type": "stream",
     "text": [
      "/Library/Frameworks/Python.framework/Versions/3.9/lib/python3.9/site-packages/sklearn/neural_network/_multilayer_perceptron.py:702: ConvergenceWarning: Stochastic Optimizer: Maximum iterations (200) reached and the optimization hasn't converged yet.\n",
      "  warnings.warn(\n"
     ]
    }
   ],
   "source": [
    "mlpClassifier3 = MLPClassifier(max_iter=200,activation='relu', verbose=False, hidden_layer_sizes=(150,),random_state=1)\n",
    "mlpClassifier3.fit(X_train, y_train)\n",
    "y_pred3 = mlpClassifier3.predict(X_test)"
   ]
  },
  {
   "attachments": {},
   "cell_type": "markdown",
   "id": "8b965c8f",
   "metadata": {},
   "source": [
    "## Analyzing the Classifier #3"
   ]
  },
  {
   "cell_type": "code",
   "execution_count": 18,
   "id": "e70fe108",
   "metadata": {},
   "outputs": [
    {
     "data": {
      "text/plain": [
       "82.79569892473118"
      ]
     },
     "execution_count": 18,
     "metadata": {},
     "output_type": "execute_result"
    }
   ],
   "source": [
    "analyze(y_test, y_pred3)"
   ]
  },
  {
   "cell_type": "code",
   "execution_count": 19,
   "id": "d648571c",
   "metadata": {},
   "outputs": [
    {
     "data": {
      "text/plain": [
       "[<matplotlib.lines.Line2D at 0x7f8eb8b55dc0>]"
      ]
     },
     "execution_count": 19,
     "metadata": {},
     "output_type": "execute_result"
    },
    {
     "data": {
      "image/png": "[encoded data removed]",
      "text/plain": [
       "<Figure size 640x480 with 1 Axes>"
      ]
     },
     "metadata": {},
     "output_type": "display_data"
    }
   ],
   "source": [
    "plt.title('Loss Curve 3')\n",
    "plt.plot(range(len(mlpClassifier3.loss_curve_)),mlpClassifier3.loss_curve_)"
   ]
  },
  {
   "cell_type": "code",
   "execution_count": 20,
   "id": "9b9e0ce5",
   "metadata": {},
   "outputs": [
    {
     "data": {
      "text/plain": [
       "<AxesSubplot:>"
      ]
     },
     "execution_count": 20,
     "metadata": {},
     "output_type": "execute_result"
    },
    {
     "data": {
      "image/png": "[encoded data removed]",
      "text/plain": [
       "<Figure size 640x480 with 2 Axes>"
      ]
     },
     "metadata": {},
     "output_type": "display_data"
    }
   ],
   "source": [
    "confMatrix3 = metrics.confusion_matrix(y_test,y_pred3)\n",
    "sns.heatmap(pd.DataFrame(confMatrix3),annot=True)"
   ]
  },
  {
   "attachments": {},
   "cell_type": "markdown",
   "id": "dee31ccf",
   "metadata": {},
   "source": [
    "## Creating the MLP Classifire #4"
   ]
  },
  {
   "attachments": {},
   "cell_type": "markdown",
   "id": "4d29685e",
   "metadata": {},
   "source": [
    "For the fourth MLP model, we chose the standard SciKit model, again with the same 150 neurons on the single hiden layer.<br />\n",
    "The max_iter is set as the default value: 200 iterations.<br />\n",
    "The learning rate is now setto a bigger value value: 0.005<br />\n",
    "The learning rate is set to be constant during all the training<br />\n",
    "The solver is set as the default: 'adam'<br />\n",
    "The activation function is set as the default: 'relu'<br />"
   ]
  },
  {
   "cell_type": "code",
   "execution_count": 21,
   "id": "76355edb",
   "metadata": {},
   "outputs": [
    {
     "name": "stderr",
     "output_type": "stream",
     "text": [
      "/Library/Frameworks/Python.framework/Versions/3.9/lib/python3.9/site-packages/sklearn/neural_network/_multilayer_perceptron.py:702: ConvergenceWarning: Stochastic Optimizer: Maximum iterations (200) reached and the optimization hasn't converged yet.\n",
      "  warnings.warn(\n"
     ]
    }
   ],
   "source": [
    "mlpClassifier4 = MLPClassifier(max_iter=200,activation='relu', verbose=False, hidden_layer_sizes=(150,),random_state=1,learning_rate_init=0.005)\n",
    "mlpClassifier4.fit(X_train, y_train)\n",
    "y_pred4 = mlpClassifier4.predict(X_test)"
   ]
  },
  {
   "attachments": {},
   "cell_type": "markdown",
   "id": "2e608c02",
   "metadata": {},
   "source": [
    "## Analyzing the Classifier #4"
   ]
  },
  {
   "cell_type": "code",
   "execution_count": 22,
   "id": "a3d6f327",
   "metadata": {},
   "outputs": [
    {
     "data": {
      "text/plain": [
       "77.41935483870968"
      ]
     },
     "execution_count": 22,
     "metadata": {},
     "output_type": "execute_result"
    }
   ],
   "source": [
    "analyze(y_test, y_pred4)"
   ]
  },
  {
   "cell_type": "code",
   "execution_count": 23,
   "id": "ad7b34cb",
   "metadata": {},
   "outputs": [
    {
     "data": {
      "text/plain": [
       "[<matplotlib.lines.Line2D at 0x7f8eb8e48f70>]"
      ]
     },
     "execution_count": 23,
     "metadata": {},
     "output_type": "execute_result"
    },
    {
     "data": {
      "image/png": "[encoded data removed]",
      "text/plain": [
       "<Figure size 640x480 with 1 Axes>"
      ]
     },
     "metadata": {},
     "output_type": "display_data"
    }
   ],
   "source": [
    "plt.title('Loss Curve 4')\n",
    "plt.plot(range(len(mlpClassifier4.loss_curve_)),mlpClassifier4.loss_curve_)"
   ]
  },
  {
   "cell_type": "code",
   "execution_count": 24,
   "id": "549ea0c7",
   "metadata": {},
   "outputs": [
    {
     "data": {
      "text/plain": [
       "<AxesSubplot:>"
      ]
     },
     "execution_count": 24,
     "metadata": {},
     "output_type": "execute_result"
    },
    {
     "data": {
      "image/png": "[encoded data removed]",
      "text/plain": [
       "<Figure size 640x480 with 2 Axes>"
      ]
     },
     "metadata": {},
     "output_type": "display_data"
    }
   ],
   "source": [
    "confMatrix4 = metrics.confusion_matrix(y_test,y_pred4)\n",
    "sns.heatmap(pd.DataFrame(confMatrix4),annot=True)"
   ]
  },
  {
   "attachments": {},
   "cell_type": "markdown",
   "id": "13151b0a",
   "metadata": {},
   "source": [
    "## Creating the MLP Classifire #5"
   ]
  },
  {
   "attachments": {},
   "cell_type": "markdown",
   "id": "20b5c92e",
   "metadata": {},
   "source": [
    "For the fith MLP model, we chose the standard SciKit model, but this time we are using three hidden layesr, each one containing 50 neurons.<br />\n",
    "The max_iter is set as the default value: 200 iterations.<br />\n",
    "The learning rate is set as the default value: 0.001<br />\n",
    "The learning rate is set to be constant during all the training<br />\n",
    "The solver is set as the default: 'adam'<br />\n",
    "The activation function is set as the default: 'relu'<br />"
   ]
  },
  {
   "cell_type": "code",
   "execution_count": 25,
   "id": "295b1225",
   "metadata": {},
   "outputs": [
    {
     "name": "stderr",
     "output_type": "stream",
     "text": [
      "/Library/Frameworks/Python.framework/Versions/3.9/lib/python3.9/site-packages/sklearn/neural_network/_multilayer_perceptron.py:702: ConvergenceWarning: Stochastic Optimizer: Maximum iterations (200) reached and the optimization hasn't converged yet.\n",
      "  warnings.warn(\n"
     ]
    }
   ],
   "source": [
    "mlpClassifier5 = MLPClassifier(max_iter=200,activation='relu', verbose=False, hidden_layer_sizes=(50,3),random_state=1,learning_rate_init=0.001)\n",
    "mlpClassifier5.fit(X_train, y_train)\n",
    "y_pred5 = mlpClassifier5.predict(X_test)"
   ]
  },
  {
   "attachments": {},
   "cell_type": "markdown",
   "id": "0b0dada7",
   "metadata": {},
   "source": [
    "## Analyzing the Classifier #5"
   ]
  },
  {
   "cell_type": "code",
   "execution_count": 26,
   "id": "78d034e7",
   "metadata": {},
   "outputs": [
    {
     "data": {
      "text/plain": [
       "82.79569892473118"
      ]
     },
     "execution_count": 26,
     "metadata": {},
     "output_type": "execute_result"
    }
   ],
   "source": [
    "analyze(y_test, y_pred5)"
   ]
  },
  {
   "cell_type": "code",
   "execution_count": 27,
   "id": "188f5e19",
   "metadata": {},
   "outputs": [
    {
     "data": {
      "text/plain": [
       "[<matplotlib.lines.Line2D at 0x7f8eb91905e0>]"
      ]
     },
     "execution_count": 27,
     "metadata": {},
     "output_type": "execute_result"
    },
    {
     "data": {
      "image/png": "[encoded data removed]",
      "text/plain": [
       "<Figure size 640x480 with 1 Axes>"
      ]
     },
     "metadata": {},
     "output_type": "display_data"
    }
   ],
   "source": [
    "plt.title('Loss Curve 5')\n",
    "plt.plot(range(len(mlpClassifier5.loss_curve_)),mlpClassifier5.loss_curve_)"
   ]
  },
  {
   "cell_type": "code",
   "execution_count": 28,
   "id": "b7dbd110",
   "metadata": {},
   "outputs": [
    {
     "data": {
      "text/plain": [
       "<AxesSubplot:>"
      ]
     },
     "execution_count": 28,
     "metadata": {},
     "output_type": "execute_result"
    },
    {
     "data": {
      "image/png": "[encoded data removed]",
      "text/plain": [
       "<Figure size 640x480 with 2 Axes>"
      ]
     },
     "metadata": {},
     "output_type": "display_data"
    }
   ],
   "source": [
    "confMatrix5 = metrics.confusion_matrix(y_test,y_pred5)\n",
    "sns.heatmap(pd.DataFrame(confMatrix5),annot=True)"
   ]
  },
  {
   "attachments": {},
   "cell_type": "markdown",
   "id": "654e01b8",
   "metadata": {},
   "source": [
    "## Creating the MLP Classifire #6"
   ]
  },
  {
   "attachments": {},
   "cell_type": "markdown",
   "id": "38d4c129",
   "metadata": {},
   "source": [
    "For the sixth MLP model, we chose the standard SciKit model, utilizing six hidden layers, each one with 25 neurons.<br />\n",
    "The max_iter is set as the default value: 200 iterations.<br />\n",
    "The learning rate is set as the default value: 0.001<br />\n",
    "The learning rate is set to be constant during all the training<br />\n",
    "The solver is set as the default: 'adam'<br />\n",
    "The activation function is set as the default: 'relu'<br />"
   ]
  },
  {
   "cell_type": "code",
   "execution_count": 29,
   "id": "705daebb",
   "metadata": {},
   "outputs": [
    {
     "name": "stderr",
     "output_type": "stream",
     "text": [
      "/Library/Frameworks/Python.framework/Versions/3.9/lib/python3.9/site-packages/sklearn/neural_network/_multilayer_perceptron.py:702: ConvergenceWarning: Stochastic Optimizer: Maximum iterations (200) reached and the optimization hasn't converged yet.\n",
      "  warnings.warn(\n"
     ]
    }
   ],
   "source": [
    "mlpClassifier6 = MLPClassifier(max_iter=200,activation='relu', verbose=False, hidden_layer_sizes=(25,10),random_state=1,learning_rate_init=0.001)\n",
    "mlpClassifier6.fit(X_train, y_train)\n",
    "y_pred6 = mlpClassifier6.predict(X_test)"
   ]
  },
  {
   "attachments": {},
   "cell_type": "markdown",
   "id": "95c428e6",
   "metadata": {},
   "source": [
    "## Analyzing the Classifier #6"
   ]
  },
  {
   "cell_type": "code",
   "execution_count": 30,
   "id": "41122bf5",
   "metadata": {},
   "outputs": [
    {
     "data": {
      "text/plain": [
       "82.79569892473118"
      ]
     },
     "execution_count": 30,
     "metadata": {},
     "output_type": "execute_result"
    }
   ],
   "source": [
    "analyze(y_test, y_pred6)"
   ]
  },
  {
   "cell_type": "code",
   "execution_count": 31,
   "id": "e693fbb3",
   "metadata": {},
   "outputs": [
    {
     "data": {
      "text/plain": [
       "[<matplotlib.lines.Line2D at 0x7f8eb9376af0>]"
      ]
     },
     "execution_count": 31,
     "metadata": {},
     "output_type": "execute_result"
    },
    {
     "data": {
      "image/png": "[encoded data removed]",
      "text/plain": [
       "<Figure size 640x480 with 1 Axes>"
      ]
     },
     "metadata": {},
     "output_type": "display_data"
    }
   ],
   "source": [
    "plt.title('Loss Curve 6')\n",
    "plt.plot(range(len(mlpClassifier6.loss_curve_)),mlpClassifier6.loss_curve_)"
   ]
  },
  {
   "cell_type": "code",
   "execution_count": 32,
   "id": "e9a7e93a",
   "metadata": {},
   "outputs": [
    {
     "data": {
      "text/plain": [
       "<AxesSubplot:>"
      ]
     },
     "execution_count": 32,
     "metadata": {},
     "output_type": "execute_result"
    },
    {
     "data": {
      "image/png": "[encoded data removed]",
      "text/plain": [
       "<Figure size 640x480 with 2 Axes>"
      ]
     },
     "metadata": {},
     "output_type": "display_data"
    }
   ],
   "source": [
    "confMatrix6 = metrics.confusion_matrix(y_test,y_pred6)\n",
    "sns.heatmap(pd.DataFrame(confMatrix6),annot=True)"
   ]
  },
  {
   "attachments": {},
   "cell_type": "markdown",
   "id": "7b41baa6",
   "metadata": {},
   "source": [
    "## Creating the MLP Classifire #7"
   ]
  },
  {
   "attachments": {},
   "cell_type": "markdown",
   "id": "c3b9ca1c",
   "metadata": {},
   "source": [
    "For the seventh MLP model, we chose the standard SciKit model,now back again with the model with one silge hidden layer and two hundred neurons.<br />\n",
    "The max_iter is set as the default value: 200 iterations.<br />\n",
    "The learning rate is set as the default value: 0.001<br />\n",
    "The learning rate is set to be constant during all the training<br />\n",
    "The solver is set as the default: 'adam'<br />\n",
    "The activation function is set as the default: 'relu'<br />"
   ]
  },
  {
   "cell_type": "code",
   "execution_count": 33,
   "id": "a17746d6",
   "metadata": {},
   "outputs": [
    {
     "name": "stderr",
     "output_type": "stream",
     "text": [
      "/Library/Frameworks/Python.framework/Versions/3.9/lib/python3.9/site-packages/sklearn/neural_network/_multilayer_perceptron.py:702: ConvergenceWarning: Stochastic Optimizer: Maximum iterations (200) reached and the optimization hasn't converged yet.\n",
      "  warnings.warn(\n"
     ]
    }
   ],
   "source": [
    "mlpClassifier7 = MLPClassifier(max_iter=200,activation='relu', verbose=False, hidden_layer_sizes=(200,),random_state=1,learning_rate_init=0.001)\n",
    "mlpClassifier7.fit(X_train, y_train)\n",
    "y_pred7 = mlpClassifier7.predict(X_test)"
   ]
  },
  {
   "attachments": {},
   "cell_type": "markdown",
   "id": "2bd64de8",
   "metadata": {},
   "source": [
    "## Analyzing the Classifier #7"
   ]
  },
  {
   "cell_type": "code",
   "execution_count": 34,
   "id": "88cccb85",
   "metadata": {},
   "outputs": [
    {
     "data": {
      "text/plain": [
       "79.56989247311827"
      ]
     },
     "execution_count": 34,
     "metadata": {},
     "output_type": "execute_result"
    }
   ],
   "source": [
    "analyze(y_test, y_pred7)"
   ]
  },
  {
   "cell_type": "code",
   "execution_count": 35,
   "id": "e403853e",
   "metadata": {},
   "outputs": [
    {
     "data": {
      "text/plain": [
       "[<matplotlib.lines.Line2D at 0x7f8eb974e490>]"
      ]
     },
     "execution_count": 35,
     "metadata": {},
     "output_type": "execute_result"
    },
    {
     "data": {
      "image/png": "[encoded data removed]",
      "text/plain": [
       "<Figure size 640x480 with 1 Axes>"
      ]
     },
     "metadata": {},
     "output_type": "display_data"
    }
   ],
   "source": [
    "plt.title('Loss Curve 7')\n",
    "plt.plot(range(len(mlpClassifier7.loss_curve_)),mlpClassifier7.loss_curve_)"
   ]
  },
  {
   "cell_type": "code",
   "execution_count": 36,
   "id": "3049bed3",
   "metadata": {},
   "outputs": [
    {
     "data": {
      "text/plain": [
       "<AxesSubplot:>"
      ]
     },
     "execution_count": 36,
     "metadata": {},
     "output_type": "execute_result"
    },
    {
     "data": {
      "image/png": "[encoded data removed]",
      "text/plain": [
       "<Figure size 640x480 with 2 Axes>"
      ]
     },
     "metadata": {},
     "output_type": "display_data"
    }
   ],
   "source": [
    "confMatrix7 = metrics.confusion_matrix(y_test,y_pred7)\n",
    "sns.heatmap(pd.DataFrame(confMatrix7),annot=True)"
   ]
  },
  {
   "attachments": {},
   "cell_type": "markdown",
   "id": "81f0acbd",
   "metadata": {},
   "source": [
    "## Creating the MLP Classifire #8"
   ]
  },
  {
   "attachments": {},
   "cell_type": "markdown",
   "id": "4a2fecbb",
   "metadata": {},
   "source": [
    "For the eigth MLP model, we chose the standard SciKit model,this time again with one silge hidden layer, with two hundred neurons, but this time with fewer iteration.<br />\n",
    "The max_iter is set as the default value: 200 iterations.<br />\n",
    "The learning rate is set as the default value: 0.001<br />\n",
    "The learning rate is set to be constant during all the training<br />\n",
    "The solver is set as the default: 'adam'<br />\n",
    "The activation function is set as the default: 'relu'<br />"
   ]
  },
  {
   "cell_type": "code",
   "execution_count": 37,
   "id": "4c64e9d6",
   "metadata": {},
   "outputs": [
    {
     "name": "stderr",
     "output_type": "stream",
     "text": [
      "/Library/Frameworks/Python.framework/Versions/3.9/lib/python3.9/site-packages/sklearn/neural_network/_multilayer_perceptron.py:702: ConvergenceWarning: Stochastic Optimizer: Maximum iterations (110) reached and the optimization hasn't converged yet.\n",
      "  warnings.warn(\n"
     ]
    }
   ],
   "source": [
    "mlpClassifier8 = MLPClassifier(max_iter=110,activation='relu', verbose=False, hidden_layer_sizes=(200,),random_state=1,learning_rate_init=0.001)\n",
    "mlpClassifier8.fit(X_train, y_train)\n",
    "y_pred8 = mlpClassifier8.predict(X_test)"
   ]
  },
  {
   "attachments": {},
   "cell_type": "markdown",
   "id": "d0afddad",
   "metadata": {},
   "source": [
    "## Analyzing the Classifier #8"
   ]
  },
  {
   "cell_type": "code",
   "execution_count": 38,
   "id": "be5dced4",
   "metadata": {},
   "outputs": [
    {
     "data": {
      "text/plain": [
       "82.79569892473118"
      ]
     },
     "execution_count": 38,
     "metadata": {},
     "output_type": "execute_result"
    }
   ],
   "source": [
    "analyze(y_test, y_pred8)"
   ]
  },
  {
   "cell_type": "code",
   "execution_count": 39,
   "id": "a65cbd11",
   "metadata": {},
   "outputs": [
    {
     "data": {
      "text/plain": [
       "[<matplotlib.lines.Line2D at 0x7f8eb9a8abb0>]"
      ]
     },
     "execution_count": 39,
     "metadata": {},
     "output_type": "execute_result"
    },
    {
     "data": {
      "image/png": "[encoded data removed]",
      "text/plain": [
       "<Figure size 640x480 with 1 Axes>"
      ]
     },
     "metadata": {},
     "output_type": "display_data"
    }
   ],
   "source": [
    "plt.title('Loss Curve 8')\n",
    "plt.plot(range(len(mlpClassifier8.loss_curve_)),mlpClassifier8.loss_curve_)"
   ]
  },
  {
   "cell_type": "code",
   "execution_count": 40,
   "id": "f4130eaa",
   "metadata": {},
   "outputs": [
    {
     "data": {
      "text/plain": [
       "<AxesSubplot:>"
      ]
     },
     "execution_count": 40,
     "metadata": {},
     "output_type": "execute_result"
    },
    {
     "data": {
      "image/png": "[encoded data removed]",
      "text/plain": [
       "<Figure size 640x480 with 2 Axes>"
      ]
     },
     "metadata": {},
     "output_type": "display_data"
    }
   ],
   "source": [
    "confMatrix8 = metrics.confusion_matrix(y_test,y_pred8)\n",
    "sns.heatmap(pd.DataFrame(confMatrix8),annot=True)"
   ]
  },
  {
   "attachments": {},
   "cell_type": "markdown",
   "id": "2a27fed7",
   "metadata": {},
   "source": [
    "## Creating the MLP Classifire #9"
   ]
  },
  {
   "attachments": {},
   "cell_type": "markdown",
   "id": "262f9fe0",
   "metadata": {},
   "source": [
    "For the ninth MLP model, we chose the standard SciKit model, utilizing only one hidden layer with two hundred neurons.Tis time a different solver is utilized, the 'sgd', to observe the diferences in outcome.<br />\n",
    "The max_iter is set as the default value: 200 iterations.<br />\n",
    "The learning rate is set as the default value: 0.001<br />\n",
    "The learning rate is set to be constant during all the training<br />\n",
    "The solver is set as the default: 'sgd'<br />\n",
    "The activation function is set as the default: 'relu'<br />"
   ]
  },
  {
   "cell_type": "code",
   "execution_count": 41,
   "id": "3c158b85",
   "metadata": {},
   "outputs": [
    {
     "name": "stderr",
     "output_type": "stream",
     "text": [
      "/Library/Frameworks/Python.framework/Versions/3.9/lib/python3.9/site-packages/sklearn/neural_network/_multilayer_perceptron.py:702: ConvergenceWarning: Stochastic Optimizer: Maximum iterations (200) reached and the optimization hasn't converged yet.\n",
      "  warnings.warn(\n"
     ]
    }
   ],
   "source": [
    "mlpClassifier9 = MLPClassifier(max_iter=200,activation='relu', verbose=False, hidden_layer_sizes=(200,),random_state=1,learning_rate_init=0.001,solver='sgd')\n",
    "mlpClassifier9.fit(X_train, y_train)\n",
    "y_pred9 = mlpClassifier9.predict(X_test)"
   ]
  },
  {
   "attachments": {},
   "cell_type": "markdown",
   "id": "3de7ada5",
   "metadata": {},
   "source": [
    "## Analyzing the Classifier #9"
   ]
  },
  {
   "cell_type": "code",
   "execution_count": 42,
   "id": "0d7a2a15",
   "metadata": {},
   "outputs": [
    {
     "data": {
      "text/plain": [
       "75.26881720430107"
      ]
     },
     "execution_count": 42,
     "metadata": {},
     "output_type": "execute_result"
    }
   ],
   "source": [
    "analyze(y_test, y_pred9)"
   ]
  },
  {
   "cell_type": "code",
   "execution_count": 43,
   "id": "bd86d6c5",
   "metadata": {},
   "outputs": [
    {
     "data": {
      "text/plain": [
       "[<matplotlib.lines.Line2D at 0x7f8eb9dc58e0>]"
      ]
     },
     "execution_count": 43,
     "metadata": {},
     "output_type": "execute_result"
    },
    {
     "data": {
      "image/png": "[encoded data removed]",
      "text/plain": [
       "<Figure size 640x480 with 1 Axes>"
      ]
     },
     "metadata": {},
     "output_type": "display_data"
    }
   ],
   "source": [
    "plt.title('Loss Curve 9')\n",
    "plt.plot(range(len(mlpClassifier9.loss_curve_)),mlpClassifier9.loss_curve_)"
   ]
  },
  {
   "cell_type": "code",
   "execution_count": 44,
   "id": "b80f7288",
   "metadata": {},
   "outputs": [
    {
     "data": {
      "text/plain": [
       "<AxesSubplot:>"
      ]
     },
     "execution_count": 44,
     "metadata": {},
     "output_type": "execute_result"
    },
    {
     "data": {
      "image/png": "[encoded data removed]",
      "text/plain": [
       "<Figure size 640x480 with 2 Axes>"
      ]
     },
     "metadata": {},
     "output_type": "display_data"
    }
   ],
   "source": [
    "confMatrix9 = metrics.confusion_matrix(y_test,y_pred9)\n",
    "sns.heatmap(pd.DataFrame(confMatrix9),annot=True)"
   ]
  },
  {
   "attachments": {},
   "cell_type": "markdown",
   "id": "c5284bdf",
   "metadata": {},
   "source": [
    "## Creating the MLP Classifire #10"
   ]
  },
  {
   "attachments": {},
   "cell_type": "markdown",
   "id": "519ef923",
   "metadata": {},
   "source": [
    "For the tenth MLP model, we chose the standard SciKit model. Utilizing again the 'sgd' as the solver, we are now using a deeper model, with ten hidden layers, each one with twenty five neurons. The training time was set a bit higher, due to the size of the model, and it's longer time to learn<br />\n",
    "The max_iter is set as the default value: 800 iterations.<br />\n",
    "The learning rate is set as the default value: 0.001<br />\n",
    "The learning rate is set to be constant during all the training<br />\n",
    "The solver is set as the default: 'sgd'<br />\n",
    "The activation function is set as the default: 'relu'<br />"
   ]
  },
  {
   "cell_type": "code",
   "execution_count": 45,
   "id": "0da60c54",
   "metadata": {},
   "outputs": [
    {
     "name": "stderr",
     "output_type": "stream",
     "text": [
      "/Library/Frameworks/Python.framework/Versions/3.9/lib/python3.9/site-packages/sklearn/neural_network/_multilayer_perceptron.py:702: ConvergenceWarning: Stochastic Optimizer: Maximum iterations (800) reached and the optimization hasn't converged yet.\n",
      "  warnings.warn(\n"
     ]
    }
   ],
   "source": [
    "mlpClassifier10 = MLPClassifier(max_iter=800,activation='relu', verbose=False, hidden_layer_sizes=(25,10),random_state=1,learning_rate_init=0.001,solver='sgd')\n",
    "mlpClassifier10.fit(X_train, y_train)\n",
    "y_pred10 = mlpClassifier10.predict(X_test)"
   ]
  },
  {
   "attachments": {},
   "cell_type": "markdown",
   "id": "353f5aa2",
   "metadata": {},
   "source": [
    "## Analyzing the Classifier #10"
   ]
  },
  {
   "cell_type": "code",
   "execution_count": 46,
   "id": "b048772a",
   "metadata": {},
   "outputs": [
    {
     "data": {
      "text/plain": [
       "80.64516129032258"
      ]
     },
     "execution_count": 46,
     "metadata": {},
     "output_type": "execute_result"
    }
   ],
   "source": [
    "analyze(y_test, y_pred10)"
   ]
  },
  {
   "cell_type": "code",
   "execution_count": 47,
   "id": "4e7e5cac",
   "metadata": {},
   "outputs": [
    {
     "data": {
      "text/plain": [
       "[<matplotlib.lines.Line2D at 0x7f8eba10dd00>]"
      ]
     },
     "execution_count": 47,
     "metadata": {},
     "output_type": "execute_result"
    },
    {
     "data": {
      "image/png": "[encoded data removed]",
      "text/plain": [
       "<Figure size 640x480 with 1 Axes>"
      ]
     },
     "metadata": {},
     "output_type": "display_data"
    }
   ],
   "source": [
    "plt.title('Loss Curve 10')\n",
    "plt.plot(range(len(mlpClassifier10.loss_curve_)),mlpClassifier10.loss_curve_)"
   ]
  }
 ],
 "metadata": {
  "kernelspec": {
   "display_name": "Python 3 (ipykernel)",
   "language": "python",
   "name": "python3"
  },
  "language_info": {
   "codemirror_mode": {
    "name": "ipython",
    "version": 3
   },
   "file_extension": ".py",
   "mimetype": "text/x-python",
   "name": "python",
   "nbconvert_exporter": "python",
   "pygments_lexer": "ipython3",
   "version": "3.9.9"
  }
 },
 "nbformat": 4,
 "nbformat_minor": 5
}
